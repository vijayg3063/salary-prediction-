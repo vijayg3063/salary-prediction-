{
 "cells": [
  {
   "cell_type": "code",
   "execution_count": 1,
   "id": "4f6f0049",
   "metadata": {},
   "outputs": [],
   "source": [
    "import pandas as pd\n",
    "import numpy as np\n",
    "from sklearn.model_selection import train_test_split\n",
    "from sklearn.tree import DecisionTreeRegressor\n",
    "from sklearn.preprocessing import LabelEncoder\n",
    "from sklearn.metrics import mean_squared_error\n",
    "import xgboost as xgb\n",
    "import joblib\n",
    "import matplotlib.pyplot as plt\n",
    "import streamlit as st  # This is only used in the app part, not required until later\n"
   ]
  },
  {
   "cell_type": "code",
   "execution_count": 2,
   "id": "12c0221a",
   "metadata": {},
   "outputs": [],
   "source": [
    "def generate_synthetic_data():\n",
    "    np.random.seed(42)\n",
    "    data = pd.DataFrame({\n",
    "        'Age': np.random.randint(18, 70, 100),\n",
    "        'Education Level': np.random.choice(['High School', 'Bachelor\\'s', 'Master\\'s', 'PhD'], 100),\n",
    "        'Job Title': np.random.choice(['Software Engineer', 'Data Analyst', 'Manager', 'Sales Representative'], 100),\n",
    "        'Years of Experience': np.random.randint(0, 40, 100),\n",
    "        'Salary': np.random.uniform(30000, 120000, 100)\n",
    "    })\n",
    "    return data\n"
   ]
  },
  {
   "cell_type": "code",
   "execution_count": 3,
   "id": "028ab510",
   "metadata": {},
   "outputs": [
    {
     "name": "stdout",
     "output_type": "stream",
     "text": [
      "Loaded Kaggle dataset: Salary.csv\n"
     ]
    },
    {
     "data": {
      "text/html": [
       "<div>\n",
       "<style scoped>\n",
       "    .dataframe tbody tr th:only-of-type {\n",
       "        vertical-align: middle;\n",
       "    }\n",
       "\n",
       "    .dataframe tbody tr th {\n",
       "        vertical-align: top;\n",
       "    }\n",
       "\n",
       "    .dataframe thead th {\n",
       "        text-align: right;\n",
       "    }\n",
       "</style>\n",
       "<table border=\"1\" class=\"dataframe\">\n",
       "  <thead>\n",
       "    <tr style=\"text-align: right;\">\n",
       "      <th></th>\n",
       "      <th>Age</th>\n",
       "      <th>Education Level</th>\n",
       "      <th>Job Title</th>\n",
       "      <th>Years of Experience</th>\n",
       "      <th>Salary</th>\n",
       "    </tr>\n",
       "  </thead>\n",
       "  <tbody>\n",
       "    <tr>\n",
       "      <th>0</th>\n",
       "      <td>25</td>\n",
       "      <td>High School</td>\n",
       "      <td>Sales Representative</td>\n",
       "      <td>2</td>\n",
       "      <td>32000</td>\n",
       "    </tr>\n",
       "    <tr>\n",
       "      <th>1</th>\n",
       "      <td>30</td>\n",
       "      <td>Bachelor's</td>\n",
       "      <td>Software Engineer</td>\n",
       "      <td>5</td>\n",
       "      <td>78000</td>\n",
       "    </tr>\n",
       "    <tr>\n",
       "      <th>2</th>\n",
       "      <td>45</td>\n",
       "      <td>Master's</td>\n",
       "      <td>Manager</td>\n",
       "      <td>15</td>\n",
       "      <td>95000</td>\n",
       "    </tr>\n",
       "    <tr>\n",
       "      <th>3</th>\n",
       "      <td>35</td>\n",
       "      <td>PhD</td>\n",
       "      <td>Data Analyst</td>\n",
       "      <td>8</td>\n",
       "      <td>82000</td>\n",
       "    </tr>\n",
       "    <tr>\n",
       "      <th>4</th>\n",
       "      <td>28</td>\n",
       "      <td>Bachelor's</td>\n",
       "      <td>Software Engineer</td>\n",
       "      <td>3</td>\n",
       "      <td>62000</td>\n",
       "    </tr>\n",
       "  </tbody>\n",
       "</table>\n",
       "</div>"
      ],
      "text/plain": [
       "   Age Education Level             Job Title  Years of Experience  Salary\n",
       "0   25     High School  Sales Representative                    2   32000\n",
       "1   30      Bachelor's     Software Engineer                    5   78000\n",
       "2   45        Master's               Manager                   15   95000\n",
       "3   35             PhD          Data Analyst                    8   82000\n",
       "4   28      Bachelor's     Software Engineer                    3   62000"
      ]
     },
     "execution_count": 3,
     "metadata": {},
     "output_type": "execute_result"
    }
   ],
   "source": [
    "try:\n",
    "    data = pd.read_csv('Salary.csv')\n",
    "    print(\"Loaded Kaggle dataset: Salary.csv\")\n",
    "except FileNotFoundError:\n",
    "    print(\"Salary.csv not found. Generating synthetic dataset instead.\")\n",
    "    data = generate_synthetic_data()\n",
    "\n",
    "# Select relevant features\n",
    "data = data[['Age', 'Education Level', 'Job Title', 'Years of Experience', 'Salary']]\n",
    "data = data.dropna()\n",
    "data.head()\n"
   ]
  },
  {
   "cell_type": "code",
   "execution_count": 4,
   "id": "23ba7da7",
   "metadata": {},
   "outputs": [
    {
     "data": {
      "text/plain": [
       "['le_job.pkl']"
      ]
     },
     "execution_count": 4,
     "metadata": {},
     "output_type": "execute_result"
    }
   ],
   "source": [
    "le_education = LabelEncoder()\n",
    "le_job = LabelEncoder()\n",
    "\n",
    "data['Education Level'] = le_education.fit_transform(data['Education Level'])\n",
    "data['Job Title'] = le_job.fit_transform(data['Job Title'])\n",
    "\n",
    "# Save encoders\n",
    "joblib.dump(le_education, 'le_education.pkl')\n",
    "joblib.dump(le_job, 'le_job.pkl')\n"
   ]
  },
  {
   "cell_type": "code",
   "execution_count": 5,
   "id": "dd992c3a",
   "metadata": {},
   "outputs": [],
   "source": [
    "X = data[['Age', 'Education Level', 'Job Title', 'Years of Experience']]\n",
    "y = data['Salary']\n",
    "\n",
    "X_train, X_test, y_train, y_test = train_test_split(X, y, test_size=0.25, random_state=42)\n"
   ]
  },
  {
   "cell_type": "code",
   "execution_count": 6,
   "id": "23fca937",
   "metadata": {},
   "outputs": [
    {
     "name": "stdout",
     "output_type": "stream",
     "text": [
      "DecisionTree RMSE: 1867.46 USD\n",
      "XGBoost RMSE: 1570.70 USD\n"
     ]
    }
   ],
   "source": [
    "models = {\n",
    "    'DecisionTree': DecisionTreeRegressor(max_depth=5, random_state=42),\n",
    "    'XGBoost': xgb.XGBRegressor(objective='reg:squarederror', random_state=42)\n",
    "}\n",
    "\n",
    "results = {}\n",
    "for name, model in models.items():\n",
    "    model.fit(X_train, y_train)\n",
    "    y_pred = model.predict(X_test)\n",
    "    mse = mean_squared_error(y_test, y_pred)\n",
    "    rmse = np.sqrt(mse)\n",
    "    results[name] = rmse\n",
    "    print(f'{name} RMSE: {rmse:.2f} USD')\n"
   ]
  },
  {
   "cell_type": "code",
   "execution_count": 7,
   "id": "aca4da23",
   "metadata": {},
   "outputs": [
    {
     "name": "stdout",
     "output_type": "stream",
     "text": [
      "Saved best model: XGBoost\n"
     ]
    }
   ],
   "source": [
    "best_model_name = min(results, key=results.get)\n",
    "best_model = models[best_model_name]\n",
    "joblib.dump(best_model, 'best_salary_model.pkl')\n",
    "print(f\"Saved best model: {best_model_name}\")\n"
   ]
  },
  {
   "cell_type": "code",
   "execution_count": 8,
   "id": "26d55a05",
   "metadata": {},
   "outputs": [
    {
     "data": {
      "image/png": "[encoded data removed]",
      "text/plain": [
       "<Figure size 800x500 with 1 Axes>"
      ]
     },
     "metadata": {},
     "output_type": "display_data"
    }
   ],
   "source": [
    "plt.figure(figsize=(8, 5))\n",
    "plt.bar(results.keys(), results.values(), color='skyblue')\n",
    "plt.title('Model Performance Comparison (RMSE)')\n",
    "plt.ylabel('Root Mean Squared Error (USD)')\n",
    "plt.grid(True, axis='y')\n",
    "plt.savefig('model_performance.png')\n",
    "plt.show()\n"
   ]
  },
  {
   "cell_type": "code",
   "execution_count": null,
   "id": "ee9e11b6",
   "metadata": {},
   "outputs": [],
   "source": [
    "streamlit run app.py\n"
   ]
  }
 ],
 "metadata": {
  "kernelspec": {
   "display_name": "base",
   "language": "python",
   "name": "python3"
  },
  "language_info": {
   "codemirror_mode": {
    "name": "ipython",
    "version": 3
   },
   "file_extension": ".py",
   "mimetype": "text/x-python",
   "name": "python",
   "nbconvert_exporter": "python",
   "pygments_lexer": "ipython3",
   "version": "3.12.7"
  }
 },
 "nbformat": 4,
 "nbformat_minor": 5
}
